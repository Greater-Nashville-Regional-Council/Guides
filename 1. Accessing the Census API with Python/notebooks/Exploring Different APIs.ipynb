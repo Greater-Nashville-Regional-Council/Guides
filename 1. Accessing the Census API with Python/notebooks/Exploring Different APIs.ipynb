{
 "cells": [
  {
   "cell_type": "markdown",
   "id": "120a3957",
   "metadata": {},
   "source": [
    "###### Imports and Settings"
   ]
  },
  {
   "cell_type": "code",
   "execution_count": 2,
   "id": "34180717",
   "metadata": {},
   "outputs": [],
   "source": [
    "import requests #interface with the API\n",
    "import json #formatting json files\n",
    "import pandas as pd #manipulating dataframe\n",
    "import pickle #save your API key"
   ]
  },
  {
   "cell_type": "code",
   "execution_count": 5,
   "id": "3613a2fd",
   "metadata": {},
   "outputs": [],
   "source": [
    "#to read in... rb is read bite\n",
    "with open('api_keys.pkl', 'rb') as keys_file:\n",
    "        keys_dict_2 = pickle.load(keys_file)"
   ]
  },
  {
   "cell_type": "code",
   "execution_count": 6,
   "id": "6bd6e168",
   "metadata": {},
   "outputs": [],
   "source": [
    "#create a variable that contains your api key\n",
    "api_key = keys_dict_2['CENSUS']"
   ]
  },
  {
   "cell_type": "markdown",
   "id": "db2c3a23",
   "metadata": {},
   "source": [
    "# Available Census Bureau API's"
   ]
  },
  {
   "cell_type": "markdown",
   "id": "798393e8",
   "metadata": {},
   "source": [
    "There are a number of different APIs for different data products. The beginners tutorial went over the ACS 5 year estimates. The list can be found here: https://www.census.gov/data/developers/data-sets.html  \n",
    "*It includes:*  \n",
    "+ ACS 1 and 5  \n",
    "+ Decennial 2000, 2010, 2020  \n",
    "+ Economic Census 2002, 2007, 2012, 2017  \n",
    "+ Population Estimates and Projections 2020 - 2021  \n",
    "+ LEHD QWI 1990 - present... etc.  \n",
    "\n",
    "If you follow the links from this webpage, you will find variable lists for these surveys.  \n",
    "For the most part, you simply adjust the url string for the appropriate series.  "
   ]
  },
  {
   "cell_type": "markdown",
   "id": "fe2fbd98",
   "metadata": {},
   "source": [
    "## Example: Decennial Census  "
   ]
  },
  {
   "cell_type": "code",
   "execution_count": 7,
   "id": "5a28eb7f",
   "metadata": {},
   "outputs": [
    {
     "name": "stdout",
     "output_type": "stream",
     "text": [
      "Your API call is complete\n"
     ]
    }
   ],
   "source": [
    "url_str= 'https://api.census.gov/data/2010/dec/sf1?key='+api_key\n",
    "predicates= {}\n",
    "get_vars= [\"NAME\", \"GEO_ID\",'H004001','H004002','H004003','H004004']\n",
    "predicates[\"get\"]= \",\". join(get_vars)\n",
    "predicates[\"for\"]= \"county:*\"\n",
    "predicates['in']= 'state:47'\n",
    "data= requests.get(url_str, params= predicates)\n",
    "col_names = ['State','GEOID','Total Housing Units','Units Owned with Mortgage or Loan','Units Owned Free and Clear','Units Renter Occupied','StateFIPS','CountyFIPS']\n",
    "data=pd.DataFrame(columns=col_names, data=data.json()[1:])\n",
    "#let's also add a print line here to let us know when the process is complete\n",
    "print('Your API call is complete')"
   ]
  },
  {
   "cell_type": "code",
   "execution_count": 8,
   "id": "463e6207",
   "metadata": {},
   "outputs": [
    {
     "data": {
      "text/html": [
       "<div>\n",
       "<style scoped>\n",
       "    .dataframe tbody tr th:only-of-type {\n",
       "        vertical-align: middle;\n",
       "    }\n",
       "\n",
       "    .dataframe tbody tr th {\n",
       "        vertical-align: top;\n",
       "    }\n",
       "\n",
       "    .dataframe thead th {\n",
       "        text-align: right;\n",
       "    }\n",
       "</style>\n",
       "<table border=\"1\" class=\"dataframe\">\n",
       "  <thead>\n",
       "    <tr style=\"text-align: right;\">\n",
       "      <th></th>\n",
       "      <th>State</th>\n",
       "      <th>GEOID</th>\n",
       "      <th>Total Housing Units</th>\n",
       "      <th>Units Owned with Mortgage or Loan</th>\n",
       "      <th>Units Owned Free and Clear</th>\n",
       "      <th>Units Renter Occupied</th>\n",
       "      <th>StateFIPS</th>\n",
       "      <th>CountyFIPS</th>\n",
       "    </tr>\n",
       "  </thead>\n",
       "  <tbody>\n",
       "    <tr>\n",
       "      <th>0</th>\n",
       "      <td>Washington County, Tennessee</td>\n",
       "      <td>0500000US47179</td>\n",
       "      <td>51322</td>\n",
       "      <td>21483</td>\n",
       "      <td>12487</td>\n",
       "      <td>17352</td>\n",
       "      <td>47</td>\n",
       "      <td>179</td>\n",
       "    </tr>\n",
       "    <tr>\n",
       "      <th>1</th>\n",
       "      <td>Williamson County, Tennessee</td>\n",
       "      <td>0500000US47187</td>\n",
       "      <td>64886</td>\n",
       "      <td>40747</td>\n",
       "      <td>11970</td>\n",
       "      <td>12169</td>\n",
       "      <td>47</td>\n",
       "      <td>187</td>\n",
       "    </tr>\n",
       "    <tr>\n",
       "      <th>2</th>\n",
       "      <td>Wayne County, Tennessee</td>\n",
       "      <td>0500000US47181</td>\n",
       "      <td>6136</td>\n",
       "      <td>2496</td>\n",
       "      <td>2401</td>\n",
       "      <td>1239</td>\n",
       "      <td>47</td>\n",
       "      <td>181</td>\n",
       "    </tr>\n",
       "    <tr>\n",
       "      <th>3</th>\n",
       "      <td>Weakley County, Tennessee</td>\n",
       "      <td>0500000US47183</td>\n",
       "      <td>13898</td>\n",
       "      <td>5204</td>\n",
       "      <td>3904</td>\n",
       "      <td>4790</td>\n",
       "      <td>47</td>\n",
       "      <td>183</td>\n",
       "    </tr>\n",
       "    <tr>\n",
       "      <th>4</th>\n",
       "      <td>Wilson County, Tennessee</td>\n",
       "      <td>0500000US47189</td>\n",
       "      <td>42563</td>\n",
       "      <td>24602</td>\n",
       "      <td>9128</td>\n",
       "      <td>8833</td>\n",
       "      <td>47</td>\n",
       "      <td>189</td>\n",
       "    </tr>\n",
       "  </tbody>\n",
       "</table>\n",
       "</div>"
      ],
      "text/plain": [
       "                          State           GEOID Total Housing Units  \\\n",
       "0  Washington County, Tennessee  0500000US47179               51322   \n",
       "1  Williamson County, Tennessee  0500000US47187               64886   \n",
       "2       Wayne County, Tennessee  0500000US47181                6136   \n",
       "3     Weakley County, Tennessee  0500000US47183               13898   \n",
       "4      Wilson County, Tennessee  0500000US47189               42563   \n",
       "\n",
       "  Units Owned with Mortgage or Loan Units Owned Free and Clear  \\\n",
       "0                             21483                      12487   \n",
       "1                             40747                      11970   \n",
       "2                              2496                       2401   \n",
       "3                              5204                       3904   \n",
       "4                             24602                       9128   \n",
       "\n",
       "  Units Renter Occupied StateFIPS CountyFIPS  \n",
       "0                 17352        47        179  \n",
       "1                 12169        47        187  \n",
       "2                  1239        47        181  \n",
       "3                  4790        47        183  \n",
       "4                  8833        47        189  "
      ]
     },
     "execution_count": 8,
     "metadata": {},
     "output_type": "execute_result"
    }
   ],
   "source": [
    "data.head()"
   ]
  },
  {
   "cell_type": "markdown",
   "id": "937c65dd",
   "metadata": {},
   "source": [
    "## Example: PEP"
   ]
  },
  {
   "cell_type": "code",
   "execution_count": 11,
   "id": "0b505706",
   "metadata": {},
   "outputs": [
    {
     "name": "stdout",
     "output_type": "stream",
     "text": [
      "Your API call is complete\n"
     ]
    }
   ],
   "source": [
    "url_str= 'https://api.census.gov/data/2021/pep/population?key='+api_key\n",
    "predicates= {}\n",
    "get_vars= [\"NAME\", \"GEO_ID\",'POP_2020','POP_2021','RANK_POP_2021']\n",
    "predicates[\"get\"]= \",\". join(get_vars)\n",
    "predicates[\"for\"]= \"state:*\"\n",
    "data= requests.get(url_str, params= predicates)\n",
    "col_names = ['State','GEOID','Pop_Jul2020','Pop_Jul2021','Rank by Pop_Jul2021','StateFIPS']\n",
    "data=pd.DataFrame(columns=col_names, data=data.json()[1:])\n",
    "#let's also add a print line here to let us know when the process is complete\n",
    "print('Your API call is complete')"
   ]
  },
  {
   "cell_type": "code",
   "execution_count": 12,
   "id": "de31b6a6",
   "metadata": {},
   "outputs": [
    {
     "data": {
      "text/html": [
       "<div>\n",
       "<style scoped>\n",
       "    .dataframe tbody tr th:only-of-type {\n",
       "        vertical-align: middle;\n",
       "    }\n",
       "\n",
       "    .dataframe tbody tr th {\n",
       "        vertical-align: top;\n",
       "    }\n",
       "\n",
       "    .dataframe thead th {\n",
       "        text-align: right;\n",
       "    }\n",
       "</style>\n",
       "<table border=\"1\" class=\"dataframe\">\n",
       "  <thead>\n",
       "    <tr style=\"text-align: right;\">\n",
       "      <th></th>\n",
       "      <th>State</th>\n",
       "      <th>GEOID</th>\n",
       "      <th>Pop_Jul2020</th>\n",
       "      <th>Pop_Jul2021</th>\n",
       "      <th>Rank by Pop_Jul2021</th>\n",
       "      <th>StateFIPS</th>\n",
       "    </tr>\n",
       "  </thead>\n",
       "  <tbody>\n",
       "    <tr>\n",
       "      <th>0</th>\n",
       "      <td>Oklahoma</td>\n",
       "      <td>0400000US40</td>\n",
       "      <td>3962031</td>\n",
       "      <td>3986639</td>\n",
       "      <td>28</td>\n",
       "      <td>40</td>\n",
       "    </tr>\n",
       "    <tr>\n",
       "      <th>1</th>\n",
       "      <td>Nebraska</td>\n",
       "      <td>0400000US31</td>\n",
       "      <td>1961455</td>\n",
       "      <td>1963692</td>\n",
       "      <td>37</td>\n",
       "      <td>31</td>\n",
       "    </tr>\n",
       "    <tr>\n",
       "      <th>2</th>\n",
       "      <td>Hawaii</td>\n",
       "      <td>0400000US15</td>\n",
       "      <td>1451911</td>\n",
       "      <td>1441553</td>\n",
       "      <td>40</td>\n",
       "      <td>15</td>\n",
       "    </tr>\n",
       "    <tr>\n",
       "      <th>3</th>\n",
       "      <td>South Dakota</td>\n",
       "      <td>0400000US46</td>\n",
       "      <td>887099</td>\n",
       "      <td>895376</td>\n",
       "      <td>46</td>\n",
       "      <td>46</td>\n",
       "    </tr>\n",
       "    <tr>\n",
       "      <th>4</th>\n",
       "      <td>Tennessee</td>\n",
       "      <td>0400000US47</td>\n",
       "      <td>6920119</td>\n",
       "      <td>6975218</td>\n",
       "      <td>16</td>\n",
       "      <td>47</td>\n",
       "    </tr>\n",
       "  </tbody>\n",
       "</table>\n",
       "</div>"
      ],
      "text/plain": [
       "          State        GEOID Pop_Jul2020 Pop_Jul2021 Rank by Pop_Jul2021  \\\n",
       "0      Oklahoma  0400000US40     3962031     3986639                  28   \n",
       "1      Nebraska  0400000US31     1961455     1963692                  37   \n",
       "2        Hawaii  0400000US15     1451911     1441553                  40   \n",
       "3  South Dakota  0400000US46      887099      895376                  46   \n",
       "4     Tennessee  0400000US47     6920119     6975218                  16   \n",
       "\n",
       "  StateFIPS  \n",
       "0        40  \n",
       "1        31  \n",
       "2        15  \n",
       "3        46  \n",
       "4        47  "
      ]
     },
     "execution_count": 12,
     "metadata": {},
     "output_type": "execute_result"
    }
   ],
   "source": [
    "data.head()"
   ]
  },
  {
   "cell_type": "code",
   "execution_count": null,
   "id": "ffb17210",
   "metadata": {},
   "outputs": [],
   "source": []
  }
 ],
 "metadata": {
  "kernelspec": {
   "display_name": "Python 3",
   "language": "python",
   "name": "python3"
  },
  "language_info": {
   "codemirror_mode": {
    "name": "ipython",
    "version": 3
   },
   "file_extension": ".py",
   "mimetype": "text/x-python",
   "name": "python",
   "nbconvert_exporter": "python",
   "pygments_lexer": "ipython3",
   "version": "3.8.8"
  }
 },
 "nbformat": 4,
 "nbformat_minor": 5
}
